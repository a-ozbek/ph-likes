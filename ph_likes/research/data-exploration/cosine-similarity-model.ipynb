{
 "cells": [
  {
   "cell_type": "code",
   "execution_count": 1,
   "metadata": {},
   "outputs": [
    {
     "name": "stderr",
     "output_type": "stream",
     "text": [
      "/home/can/anaconda3/lib/python3.6/site-packages/psycopg2/__init__.py:144: UserWarning: The psycopg2 wheel package will be renamed from release 2.8; in order to keep installing from binary please use \"pip install psycopg2-binary\" instead. For details see: <http://initd.org/psycopg/docs/install.html#binary-install-from-pypi>.\n",
      "  \"\"\")\n"
     ]
    }
   ],
   "source": [
    "import os\n",
    "import itertools\n",
    "import numpy as np\n",
    "import pandas as pd\n",
    "from tqdm import tqdm, tqdm_notebook\n",
    "from ph_likes.util import queries\n",
    "from ph_likes.util import settings\n",
    "from ph_likes.post_similarity.cosine_post_similarity import CosinePostSimilarity"
   ]
  },
  {
   "cell_type": "code",
   "execution_count": 2,
   "metadata": {},
   "outputs": [],
   "source": [
    "# Load model\n",
    "model = CosinePostSimilarity()"
   ]
  },
  {
   "cell_type": "code",
   "execution_count": 6,
   "metadata": {},
   "outputs": [],
   "source": [
    "df_post = queries.get_post_table()\n",
    "df_postlike = queries.get_postlike_table()"
   ]
  },
  {
   "cell_type": "code",
   "execution_count": 7,
   "metadata": {},
   "outputs": [],
   "source": [
    "YEAR = 2018\n",
    "MONTH = 11\n",
    "df_post_ = df_post[(df_post['featured_at'].dt.year == YEAR) & (df_post['featured_at'].dt.month == MONTH)]\n",
    "df_postlike_ = df_postlike[df_postlike['post_id'].isin(df_post_['id'].unique())]"
   ]
  },
  {
   "cell_type": "code",
   "execution_count": 8,
   "metadata": {},
   "outputs": [
    {
     "name": "stdout",
     "output_type": "stream",
     "text": [
      "5\n",
      "727\n"
     ]
    }
   ],
   "source": [
    "liked_posts = df_postlike_[df_postlike_['user_id'] == settings.EXAMPLE_USER_ID]['post_id'].unique()\n",
    "not_liked_posts = np.array(list(set(df_post_['id'].unique()) - set(liked_posts)))\n",
    "print(len(liked_posts))\n",
    "print(len(not_liked_posts))"
   ]
  },
  {
   "cell_type": "code",
   "execution_count": 9,
   "metadata": {},
   "outputs": [
    {
     "data": {
      "application/vnd.jupyter.widget-view+json": {
       "model_id": "86006effb7e6478f8cec085140c09f53",
       "version_major": 2,
       "version_minor": 0
      },
      "text/plain": [
       "HBox(children=(IntProgress(value=0, max=727), HTML(value='')))"
      ]
     },
     "metadata": {},
     "output_type": "display_data"
    },
    {
     "name": "stdout",
     "output_type": "stream",
     "text": [
      "\n"
     ]
    }
   ],
   "source": [
    "avg_similarity_for_posts = dict()\n",
    "for post_id in tqdm_notebook(not_liked_posts):\n",
    "    avg_similarity = np.mean([model.get_similarity(post_id, i) for i in liked_posts])\n",
    "    avg_similarity_for_posts[post_id] = avg_similarity"
   ]
  },
  {
   "cell_type": "code",
   "execution_count": 10,
   "metadata": {},
   "outputs": [],
   "source": [
    "df_avg_similarity_for_posts = pd.DataFrame(pd.Series(avg_similarity_for_posts)).reset_index()\n",
    "df_avg_similarity_for_posts.columns = ['id', 'avg_similarity']\n",
    "df_avg_similarity_for_posts = df_avg_similarity_for_posts.sort_values(by='avg_similarity', ascending=False)"
   ]
  },
  {
   "cell_type": "code",
   "execution_count": 11,
   "metadata": {
    "scrolled": true
   },
   "outputs": [],
   "source": [
    "df_avg_similarity_for_posts = df_avg_similarity_for_posts.merge(df_post_, on='id')"
   ]
  },
  {
   "cell_type": "code",
   "execution_count": 12,
   "metadata": {},
   "outputs": [],
   "source": [
    "df_avg_similarity_for_posts.to_csv(os.path.join(settings.LOCAL_DATA_PATH, str(settings.EXAMPLE_USER_ID) + '_recs.csv'),\n",
    "                                   sep='\\t',\n",
    "                                   index=False)"
   ]
  },
  {
   "cell_type": "code",
   "execution_count": null,
   "metadata": {},
   "outputs": [],
   "source": []
  }
 ],
 "metadata": {
  "kernelspec": {
   "display_name": "Python 3",
   "language": "python",
   "name": "python3"
  },
  "language_info": {
   "codemirror_mode": {
    "name": "ipython",
    "version": 3
   },
   "file_extension": ".py",
   "mimetype": "text/x-python",
   "name": "python",
   "nbconvert_exporter": "python",
   "pygments_lexer": "ipython3",
   "version": "3.6.5"
  }
 },
 "nbformat": 4,
 "nbformat_minor": 2
}
