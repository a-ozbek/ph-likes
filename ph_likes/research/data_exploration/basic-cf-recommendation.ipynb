{
 "cells": [
  {
   "cell_type": "code",
   "execution_count": 57,
   "metadata": {},
   "outputs": [],
   "source": [
    "import os\n",
    "import pickle\n",
    "import functools\n",
    "import numpy as np\n",
    "import pandas as pd\n",
    "from tqdm import tqdm, tqdm_notebook\n",
    "from multiprocessing import Pool\n",
    "from scipy.spatial.distance import cosine\n",
    "from ph_likes.util import queries\n",
    "from ph_likes.util import settings"
   ]
  },
  {
   "cell_type": "markdown",
   "metadata": {},
   "source": [
    "# Load Data"
   ]
  },
  {
   "cell_type": "code",
   "execution_count": 2,
   "metadata": {},
   "outputs": [],
   "source": [
    "# tables\n",
    "df_post = queries.get_post_table()"
   ]
  },
  {
   "cell_type": "code",
   "execution_count": 3,
   "metadata": {},
   "outputs": [],
   "source": [
    "CF = np.load(os.path.join(settings.LOCAL_MODELS_PATH, 'CF.npy'))\n",
    "# post_ids\n",
    "post_ids2index = pickle.load(open(os.path.join(settings.LOCAL_MODELS_PATH, 'post_ids2index.pkl'), 'rb'))\n",
    "index2post_ids = pickle.load(open(os.path.join(settings.LOCAL_MODELS_PATH, 'index2post_ids.pkl'), 'rb'))\n",
    "#\n",
    "user_ids2index = pickle.load(open(os.path.join(settings.LOCAL_MODELS_PATH, 'user_ids2index.pkl'), 'rb'))\n",
    "index2user_ids = pickle.load(open(os.path.join(settings.LOCAL_MODELS_PATH, 'index2user_ids.pkl'), 'rb'))"
   ]
  },
  {
   "cell_type": "code",
   "execution_count": null,
   "metadata": {},
   "outputs": [],
   "source": []
  },
  {
   "cell_type": "markdown",
   "metadata": {},
   "source": [
    "# Get Recommendation"
   ]
  },
  {
   "cell_type": "code",
   "execution_count": 51,
   "metadata": {},
   "outputs": [],
   "source": [
    "def get_item_similarity(cf, item_index_1, item_index_2):\n",
    "    v1 = cf[:, item_index_1]\n",
    "    v2 = cf[:, item_index_2]\n",
    "#     return 1.0 - cosine(v1, v2)\n",
    "    return np.bitwise_and(v1, v2).sum()"
   ]
  },
  {
   "cell_type": "code",
   "execution_count": 52,
   "metadata": {},
   "outputs": [
    {
     "data": {
      "text/plain": [
       "890"
      ]
     },
     "execution_count": 52,
     "metadata": {},
     "output_type": "execute_result"
    }
   ],
   "source": [
    "USER_ID = settings.EXAMPLE_USER_ID\n",
    "USER_ID_INDEX = user_ids2index[USER_ID]\n",
    "USER_ID_INDEX"
   ]
  },
  {
   "cell_type": "code",
   "execution_count": 53,
   "metadata": {},
   "outputs": [],
   "source": [
    "liked_item_indices = np.where(CF[890, :])[0]\n",
    "not_liked_item_indices = np.array(list(set(range(CF.shape[1])) - set(liked_item_indices)))"
   ]
  },
  {
   "cell_type": "code",
   "execution_count": null,
   "metadata": {},
   "outputs": [],
   "source": [
    "ITEM_SIMILARITIES_FOR_USER = dict()\n",
    "def get_avg_similarity(item_index, liked_item_indices, cf):\n",
    "    avg_similarity = np.mean([get_item_similarity(cf, item_index, i) for i in liked_item_indices])\n",
    "    return avg_similarity\n",
    "\n",
    "p_list = not_liked_item_indices\n",
    "p_func = functools.partial(get_avg_similarity, liked_item_indices=liked_item_indices, cf=CF)\n",
    "with Pool() as p:\n",
    "    for avg_similarity in tqdm_notebook(p.imap(p_func, p_list), total=len(not_liked_item_indices)):\n",
    "        ITEM_SIMILARITIES_FOR_USER[item_index] = avg_similarity"
   ]
  },
  {
   "cell_type": "code",
   "execution_count": null,
   "metadata": {
    "scrolled": true
   },
   "outputs": [],
   "source": []
  },
  {
   "cell_type": "code",
   "execution_count": null,
   "metadata": {},
   "outputs": [],
   "source": []
  },
  {
   "cell_type": "code",
   "execution_count": null,
   "metadata": {},
   "outputs": [],
   "source": []
  }
 ],
 "metadata": {
  "kernelspec": {
   "display_name": "Python 3",
   "language": "python",
   "name": "python3"
  },
  "language_info": {
   "codemirror_mode": {
    "name": "ipython",
    "version": 3
   },
   "file_extension": ".py",
   "mimetype": "text/x-python",
   "name": "python",
   "nbconvert_exporter": "python",
   "pygments_lexer": "ipython3",
   "version": "3.6.5"
  }
 },
 "nbformat": 4,
 "nbformat_minor": 2
}
