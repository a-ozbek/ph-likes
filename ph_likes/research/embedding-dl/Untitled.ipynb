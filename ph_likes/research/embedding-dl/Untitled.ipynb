{
 "cells": [
  {
   "cell_type": "code",
   "execution_count": 3,
   "metadata": {},
   "outputs": [],
   "source": [
    "import os\n",
    "import pickle\n",
    "import numpy as np\n",
    "from ph_likes.util import settings"
   ]
  },
  {
   "cell_type": "markdown",
   "metadata": {},
   "source": [
    "# Load Data"
   ]
  },
  {
   "cell_type": "code",
   "execution_count": 5,
   "metadata": {},
   "outputs": [],
   "source": [
    "CF = np.load(os.path.join(settings.LOCAL_MODELS_PATH, 'CF.npy'))"
   ]
  },
  {
   "cell_type": "code",
   "execution_count": 4,
   "metadata": {},
   "outputs": [],
   "source": [
    "# post_ids\n",
    "post_ids2index = pickle.load(open(os.path.join(settings.LOCAL_MODELS_PATH, 'post_ids2index.pkl'), 'rb'))\n",
    "index2post_ids = pickle.load(open(os.path.join(settings.LOCAL_MODELS_PATH, 'index2post_ids.pkl'), 'rb'))\n",
    "#\n",
    "user_ids2index = pickle.load(open(os.path.join(settings.LOCAL_MODELS_PATH, 'user_ids2index.pkl'), 'rb'))\n",
    "index2user_ids = pickle.load(open(os.path.join(settings.LOCAL_MODELS_PATH, 'index2user_ids.pkl'), 'rb'))"
   ]
  },
  {
   "cell_type": "markdown",
   "metadata": {},
   "source": [
    "# Model"
   ]
  },
  {
   "cell_type": "code",
   "execution_count": 10,
   "metadata": {},
   "outputs": [
    {
     "name": "stderr",
     "output_type": "stream",
     "text": [
      "/home/can/anaconda3/lib/python3.6/site-packages/h5py/__init__.py:36: FutureWarning: Conversion of the second argument of issubdtype from `float` to `np.floating` is deprecated. In future, it will be treated as `np.float64 == np.dtype(float).type`.\n",
      "  from ._conv import register_converters as _register_converters\n",
      "Using TensorFlow backend.\n"
     ]
    }
   ],
   "source": []
  },
  {
   "cell_type": "code",
   "execution_count": 9,
   "metadata": {},
   "outputs": [],
   "source": [
    "true_indices = np.where(CF)"
   ]
  },
  {
   "cell_type": "code",
   "execution_count": 14,
   "metadata": {},
   "outputs": [],
   "source": [
    "N_USERS, N_POSTS = CF.shape"
   ]
  },
  {
   "cell_type": "code",
   "execution_count": 17,
   "metadata": {},
   "outputs": [],
   "source": [
    "# model\n",
    "embedding_dim = 16\n",
    "input_user = layers.Input(shape=(1,))\n",
    "input_post = layers.Input(shape=(1,))\n",
    "x1 = layers.Embedding(input_dim=N_USERS, output_dim=embedding_dim)(input_user)\n",
    "x2 = layers.Embedding(input_dim=N_POSTS, output_dim=embedding_dim)(input_post)\n",
    "x = layers.multiply([x1, x2])\n",
    "x = layers.Dense(1, activation='sigmoid')(x)\n",
    "model = models.Model(inputs=[input_user, input_post], outputs=x)"
   ]
  },
  {
   "cell_type": "code",
   "execution_count": null,
   "metadata": {},
   "outputs": [],
   "source": []
  },
  {
   "cell_type": "code",
   "execution_count": null,
   "metadata": {},
   "outputs": [],
   "source": []
  },
  {
   "cell_type": "code",
   "execution_count": null,
   "metadata": {},
   "outputs": [],
   "source": []
  }
 ],
 "metadata": {
  "kernelspec": {
   "display_name": "Python 3",
   "language": "python",
   "name": "python3"
  },
  "language_info": {
   "codemirror_mode": {
    "name": "ipython",
    "version": 3
   },
   "file_extension": ".py",
   "mimetype": "text/x-python",
   "name": "python",
   "nbconvert_exporter": "python",
   "pygments_lexer": "ipython3",
   "version": "3.6.5"
  }
 },
 "nbformat": 4,
 "nbformat_minor": 2
}
