{
 "cells": [
  {
   "cell_type": "code",
   "execution_count": 9,
   "metadata": {},
   "outputs": [],
   "source": [
    "import os\n",
    "import pickle\n",
    "import random\n",
    "from tqdm import tqdm, tqdm_notebook\n",
    "import numpy as np\n",
    "from ph_likes.util import settings\n",
    "from ph_likes.util.ml.models import embedding_model"
   ]
  },
  {
   "cell_type": "code",
   "execution_count": 2,
   "metadata": {},
   "outputs": [],
   "source": [
    "DATA = dict()\n",
    "DATA['generate_training_data'] = True"
   ]
  },
  {
   "cell_type": "markdown",
   "metadata": {},
   "source": [
    "# Load Data"
   ]
  },
  {
   "cell_type": "code",
   "execution_count": 3,
   "metadata": {},
   "outputs": [],
   "source": [
    "CF = np.load(os.path.join(settings.LOCAL_MODELS_PATH, 'CF.npy'))"
   ]
  },
  {
   "cell_type": "code",
   "execution_count": 4,
   "metadata": {},
   "outputs": [],
   "source": [
    "# post_ids\n",
    "post_ids2index = pickle.load(open(os.path.join(settings.LOCAL_MODELS_PATH, 'post_ids2index.pkl'), 'rb'))\n",
    "index2post_ids = pickle.load(open(os.path.join(settings.LOCAL_MODELS_PATH, 'index2post_ids.pkl'), 'rb'))\n",
    "#\n",
    "user_ids2index = pickle.load(open(os.path.join(settings.LOCAL_MODELS_PATH, 'user_ids2index.pkl'), 'rb'))\n",
    "index2user_ids = pickle.load(open(os.path.join(settings.LOCAL_MODELS_PATH, 'index2user_ids.pkl'), 'rb'))"
   ]
  },
  {
   "cell_type": "code",
   "execution_count": 5,
   "metadata": {},
   "outputs": [
    {
     "data": {
      "text/plain": [
       "0.0002180496312620082"
      ]
     },
     "execution_count": 5,
     "metadata": {},
     "output_type": "execute_result"
    }
   ],
   "source": [
    "CF.mean()"
   ]
  },
  {
   "cell_type": "code",
   "execution_count": 6,
   "metadata": {},
   "outputs": [
    {
     "data": {
      "text/plain": [
       "10588235"
      ]
     },
     "execution_count": 6,
     "metadata": {},
     "output_type": "execute_result"
    }
   ],
   "source": [
    "CF.sum()"
   ]
  },
  {
   "cell_type": "code",
   "execution_count": 7,
   "metadata": {},
   "outputs": [
    {
     "data": {
      "text/plain": [
       "(767110, 63301)"
      ]
     },
     "execution_count": 7,
     "metadata": {},
     "output_type": "execute_result"
    }
   ],
   "source": [
    "CF.shape"
   ]
  },
  {
   "cell_type": "code",
   "execution_count": null,
   "metadata": {},
   "outputs": [],
   "source": []
  },
  {
   "cell_type": "code",
   "execution_count": null,
   "metadata": {},
   "outputs": [],
   "source": []
  },
  {
   "cell_type": "markdown",
   "metadata": {},
   "source": [
    "# Create Training Data"
   ]
  },
  {
   "cell_type": "code",
   "execution_count": 14,
   "metadata": {},
   "outputs": [
    {
     "data": {
      "application/vnd.jupyter.widget-view+json": {
       "model_id": "2b06c5e993e944c8b6cb83d4270cb7c4",
       "version_major": 2,
       "version_minor": 0
      },
      "text/plain": [
       "HBox(children=(IntProgress(value=0, max=10000), HTML(value='')))"
      ]
     },
     "metadata": {},
     "output_type": "display_data"
    },
    {
     "name": "stdout",
     "output_type": "stream",
     "text": [
      "\n"
     ]
    }
   ],
   "source": [
    "# Negative samples\n",
    "i_users = random.sample(range(CF.shape[1]), 1000)\n",
    "i_posts = random.sample(range(CF.shape[0]), 10000)\n",
    "false_indices = list()\n",
    "for y_ in tqdm_notebook(i_users):\n",
    "    for x_ in i_x:\n",
    "        if not CF[y_, x_]:\n",
    "            false_indices.append((y_, x_))"
   ]
  },
  {
   "cell_type": "code",
   "execution_count": 24,
   "metadata": {
    "scrolled": true
   },
   "outputs": [
    {
     "data": {
      "text/plain": [
       "[(585978, 2218),\n",
       " (585978, 25353),\n",
       " (585978, 25961),\n",
       " (585978, 57921),\n",
       " (585978, 22109),\n",
       " (585978, 59235),\n",
       " (585978, 47770),\n",
       " (585978, 44629),\n",
       " (585978, 44074),\n",
       " (585978, 13881),\n",
       " (585978, 42341),\n",
       " (585978, 28726),\n",
       " (585978, 31658),\n",
       " (585978, 4874),\n",
       " (585978, 5466),\n",
       " (585978, 41295),\n",
       " (585978, 40355),\n",
       " (585978, 55816),\n",
       " (585978, 42433),\n",
       " (585978, 24342),\n",
       " (585978, 27607),\n",
       " (585978, 24462),\n",
       " (585978, 11529),\n",
       " (585978, 52209),\n",
       " (585978, 41497),\n",
       " (585978, 3225),\n",
       " (585978, 39701),\n",
       " (585978, 22468),\n",
       " (585978, 51221),\n",
       " (585978, 50310),\n",
       " (585978, 49068),\n",
       " (585978, 24038),\n",
       " (585978, 29928),\n",
       " (585978, 39663),\n",
       " (585978, 50783),\n",
       " (585978, 26150),\n",
       " (585978, 26170),\n",
       " (585978, 34979),\n",
       " (585978, 1563),\n",
       " (585978, 63015),\n",
       " (585978, 60250),\n",
       " (585978, 60826),\n",
       " (585978, 8581),\n",
       " (585978, 15745),\n",
       " (585978, 9385),\n",
       " (585978, 30357),\n",
       " (585978, 54288),\n",
       " (585978, 56957),\n",
       " (585978, 12740),\n",
       " (585978, 40336),\n",
       " (585978, 52623),\n",
       " (585978, 50178),\n",
       " (585978, 26402),\n",
       " (585978, 53200),\n",
       " (585978, 4456),\n",
       " (585978, 21211),\n",
       " (585978, 9410),\n",
       " (585978, 56576),\n",
       " (585978, 60972),\n",
       " (585978, 8949),\n",
       " (585978, 7046),\n",
       " (585978, 20650),\n",
       " (585978, 35372),\n",
       " (585978, 49651),\n",
       " (585978, 5535),\n",
       " (585978, 4300),\n",
       " (585978, 20288),\n",
       " (585978, 50920),\n",
       " (585978, 61429),\n",
       " (585978, 6485),\n",
       " (585978, 13499),\n",
       " (585978, 62240),\n",
       " (585978, 32533),\n",
       " (585978, 32471),\n",
       " (585978, 23480),\n",
       " (585978, 37373),\n",
       " (585978, 36242),\n",
       " (585978, 13696),\n",
       " (585978, 52247),\n",
       " (585978, 22980),\n",
       " (585978, 26666),\n",
       " (585978, 26582),\n",
       " (585978, 37815),\n",
       " (585978, 7842),\n",
       " (585978, 12434),\n",
       " (585978, 42968),\n",
       " (585978, 27652),\n",
       " (585978, 35699),\n",
       " (585978, 19297),\n",
       " (585978, 19897),\n",
       " (585978, 15997),\n",
       " (585978, 4447),\n",
       " (585978, 61038),\n",
       " (585978, 14703),\n",
       " (585978, 32934),\n",
       " (585978, 6096),\n",
       " (585978, 37683),\n",
       " (585978, 52943),\n",
       " (585978, 38708),\n",
       " (585978, 54619)]"
      ]
     },
     "execution_count": 24,
     "metadata": {},
     "output_type": "execute_result"
    }
   ],
   "source": [
    "false_indices[-100:]"
   ]
  },
  {
   "cell_type": "code",
   "execution_count": 17,
   "metadata": {},
   "outputs": [
    {
     "data": {
      "text/plain": [
       "False"
      ]
     },
     "execution_count": 17,
     "metadata": {},
     "output_type": "execute_result"
    }
   ],
   "source": [
    "CF[449225, 38189]"
   ]
  },
  {
   "cell_type": "code",
   "execution_count": null,
   "metadata": {},
   "outputs": [],
   "source": []
  },
  {
   "cell_type": "code",
   "execution_count": 5,
   "metadata": {},
   "outputs": [
    {
     "ename": "MemoryError",
     "evalue": "",
     "output_type": "error",
     "traceback": [
      "\u001b[0;31m---------------------------------------------------------------------------\u001b[0m",
      "\u001b[0;31mMemoryError\u001b[0m                               Traceback (most recent call last)",
      "\u001b[0;32m<ipython-input-5-e059d1c456eb>\u001b[0m in \u001b[0;36m<module>\u001b[0;34m()\u001b[0m\n\u001b[1;32m      1\u001b[0m \u001b[0;32mif\u001b[0m \u001b[0mDATA\u001b[0m\u001b[0;34m[\u001b[0m\u001b[0;34m'generate_training_data'\u001b[0m\u001b[0;34m]\u001b[0m\u001b[0;34m:\u001b[0m\u001b[0;34m\u001b[0m\u001b[0m\n\u001b[0;32m----> 2\u001b[0;31m     \u001b[0mfalse_indices\u001b[0m \u001b[0;34m=\u001b[0m \u001b[0mnp\u001b[0m\u001b[0;34m.\u001b[0m\u001b[0mwhere\u001b[0m\u001b[0;34m(\u001b[0m\u001b[0mnp\u001b[0m\u001b[0;34m.\u001b[0m\u001b[0minvert\u001b[0m\u001b[0;34m(\u001b[0m\u001b[0mCF\u001b[0m\u001b[0;34m)\u001b[0m\u001b[0;34m)\u001b[0m\u001b[0;34m\u001b[0m\u001b[0m\n\u001b[0m\u001b[1;32m      3\u001b[0m     \u001b[0mprint\u001b[0m\u001b[0;34m(\u001b[0m\u001b[0;34m'false done.'\u001b[0m\u001b[0;34m)\u001b[0m\u001b[0;34m\u001b[0m\u001b[0m\n\u001b[1;32m      4\u001b[0m     \u001b[0mtrue_indices\u001b[0m \u001b[0;34m=\u001b[0m \u001b[0mnp\u001b[0m\u001b[0;34m.\u001b[0m\u001b[0mwhere\u001b[0m\u001b[0;34m(\u001b[0m\u001b[0mCF\u001b[0m\u001b[0;34m)\u001b[0m\u001b[0;34m\u001b[0m\u001b[0m\n\u001b[1;32m      5\u001b[0m     \u001b[0mprint\u001b[0m\u001b[0;34m(\u001b[0m\u001b[0;34m'true done.'\u001b[0m\u001b[0;34m)\u001b[0m\u001b[0;34m\u001b[0m\u001b[0m\n",
      "\u001b[0;31mMemoryError\u001b[0m: "
     ]
    }
   ],
   "source": [
    "if DATA['generate_training_data']:\n",
    "    false_indices = np.where(np.invert(CF))\n",
    "    print('false done.')\n",
    "    true_indices = np.where(CF)\n",
    "    print('true done.')\n",
    "    DATA['N_USERS'], DATA['N_POSTS'] = CF.shape\n",
    "    CF = None  # No longer neccessary\n",
    "    DATA['X'] = [np.array(np.concatenate(true_indices[0], false_indices[0]), dtype=np.uint8), \n",
    "                 np.array(np.concatenate(true_indices[1], false_indices[1]), dtype=np.uint8)]\n",
    "    DATA['y'] = np.array([1] * len(true_indices) + [0] * len(false_indices), dtype=np.uint8)\n",
    "    np.save(os.path.join(settings.LOCAL_DATA_PATH, 'X.npy'), X)\n",
    "    np.save(os.path.join(settings.LOCAL_DATA_PATH, 'y.npy'), y)\n",
    "else:\n",
    "    DATA['X'] = np.load(os.path.join(settings.LOCAL_DATA_PATH, 'X.npy'))\n",
    "    DATA['y'] = np.load(os.path.join(settings.LOCAL_DATA_PATH, 'y.npy'))"
   ]
  },
  {
   "cell_type": "code",
   "execution_count": null,
   "metadata": {},
   "outputs": [],
   "source": [
    "print('X.shape:', X.shape)\n",
    "print('y.shape:', y.shape)"
   ]
  },
  {
   "cell_type": "markdown",
   "metadata": {},
   "source": [
    "# Model"
   ]
  },
  {
   "cell_type": "code",
   "execution_count": 14,
   "metadata": {},
   "outputs": [],
   "source": []
  },
  {
   "cell_type": "code",
   "execution_count": 20,
   "metadata": {},
   "outputs": [],
   "source": [
    "model = embedding_model.get_embedding_model(n_users=N_USERS, n_posts=N_POSTS)"
   ]
  },
  {
   "cell_type": "markdown",
   "metadata": {},
   "source": [
    "# Training"
   ]
  },
  {
   "cell_type": "code",
   "execution_count": null,
   "metadata": {},
   "outputs": [],
   "source": []
  },
  {
   "cell_type": "code",
   "execution_count": null,
   "metadata": {},
   "outputs": [],
   "source": []
  }
 ],
 "metadata": {
  "kernelspec": {
   "display_name": "Python 3",
   "language": "python",
   "name": "python3"
  },
  "language_info": {
   "codemirror_mode": {
    "name": "ipython",
    "version": 3
   },
   "file_extension": ".py",
   "mimetype": "text/x-python",
   "name": "python",
   "nbconvert_exporter": "python",
   "pygments_lexer": "ipython3",
   "version": "3.6.5"
  }
 },
 "nbformat": 4,
 "nbformat_minor": 2
}
